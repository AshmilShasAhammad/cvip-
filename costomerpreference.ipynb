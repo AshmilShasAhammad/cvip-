{
 "cells": [
  {
   "cell_type": "markdown",
   "id": "e0dd5d03",
   "metadata": {},
   "source": [
    "# Exploratory Data Analysis of Consumer Preference"
   ]
  },
  {
   "cell_type": "code",
   "execution_count": 1,
   "id": "9017101d",
   "metadata": {},
   "outputs": [],
   "source": [
    "import pandas as pd\n",
    "import numpy as np\n",
    "import matplotlib.pyplot as plt\n",
    "import seaborn as sns\n",
    "plt.style.use('dark_background')\n",
    "\n",
    "\n"
   ]
  },
  {
   "cell_type": "code",
   "execution_count": 2,
   "id": "1f241fde",
   "metadata": {},
   "outputs": [
    {
     "data": {
      "text/html": [
       "<div>\n",
       "<style scoped>\n",
       "    .dataframe tbody tr th:only-of-type {\n",
       "        vertical-align: middle;\n",
       "    }\n",
       "\n",
       "    .dataframe tbody tr th {\n",
       "        vertical-align: top;\n",
       "    }\n",
       "\n",
       "    .dataframe thead th {\n",
       "        text-align: right;\n",
       "    }\n",
       "</style>\n",
       "<table border=\"1\" class=\"dataframe\">\n",
       "  <thead>\n",
       "    <tr style=\"text-align: right;\">\n",
       "      <th></th>\n",
       "      <th>MONTH</th>\n",
       "      <th>STORECODE</th>\n",
       "      <th>DAY</th>\n",
       "      <th>BILL_ID</th>\n",
       "      <th>BILL_AMT</th>\n",
       "      <th>QTY</th>\n",
       "      <th>VALUE</th>\n",
       "      <th>PRICE</th>\n",
       "      <th>GRP</th>\n",
       "      <th>SGRP</th>\n",
       "      <th>SSGRP</th>\n",
       "      <th>CMP</th>\n",
       "      <th>MBRD</th>\n",
       "      <th>BRD</th>\n",
       "    </tr>\n",
       "  </thead>\n",
       "  <tbody>\n",
       "    <tr>\n",
       "      <th>0</th>\n",
       "      <td>M1</td>\n",
       "      <td>N1</td>\n",
       "      <td>4</td>\n",
       "      <td>T375</td>\n",
       "      <td>225.0</td>\n",
       "      <td>1.0</td>\n",
       "      <td>225.0</td>\n",
       "      <td>225.0</td>\n",
       "      <td>BUTTER MARGR  (4/94)</td>\n",
       "      <td>BUTTER</td>\n",
       "      <td>SALTED</td>\n",
       "      <td>G C M M F</td>\n",
       "      <td>AMUL</td>\n",
       "      <td>AMUL</td>\n",
       "    </tr>\n",
       "    <tr>\n",
       "      <th>1</th>\n",
       "      <td>M1</td>\n",
       "      <td>N1</td>\n",
       "      <td>4</td>\n",
       "      <td>T379</td>\n",
       "      <td>95.0</td>\n",
       "      <td>1.0</td>\n",
       "      <td>95.0</td>\n",
       "      <td>95.0</td>\n",
       "      <td>CONFECTIONERY - ECLAIRS</td>\n",
       "      <td>CONFECTIONERY - ECLAIRS</td>\n",
       "      <td>CONFECTIONERY - ECLAIRS</td>\n",
       "      <td>PARLE PRODS</td>\n",
       "      <td>MELODY</td>\n",
       "      <td>MELODY CHOCOLATY</td>\n",
       "    </tr>\n",
       "    <tr>\n",
       "      <th>2</th>\n",
       "      <td>M1</td>\n",
       "      <td>N1</td>\n",
       "      <td>4</td>\n",
       "      <td>T381</td>\n",
       "      <td>10.0</td>\n",
       "      <td>1.0</td>\n",
       "      <td>10.0</td>\n",
       "      <td>10.0</td>\n",
       "      <td>CHOCOLATE</td>\n",
       "      <td>CHOCOLATE PANNED</td>\n",
       "      <td>CHOCOLATE PANNED</td>\n",
       "      <td>MONDELEZ INTERNATIONAL</td>\n",
       "      <td>CADBURY SHOTS</td>\n",
       "      <td>CADBURY SHOTS</td>\n",
       "    </tr>\n",
       "    <tr>\n",
       "      <th>3</th>\n",
       "      <td>M1</td>\n",
       "      <td>N1</td>\n",
       "      <td>4</td>\n",
       "      <td>T382</td>\n",
       "      <td>108.0</td>\n",
       "      <td>1.0</td>\n",
       "      <td>108.0</td>\n",
       "      <td>108.0</td>\n",
       "      <td>PACKAGED TEA</td>\n",
       "      <td>MAIN PACKS</td>\n",
       "      <td>MAIN PACKS</td>\n",
       "      <td>GUJ TEA PROCESSORS</td>\n",
       "      <td>WAGH BAKRI</td>\n",
       "      <td>WAGH BAKRI INSTANT</td>\n",
       "    </tr>\n",
       "    <tr>\n",
       "      <th>4</th>\n",
       "      <td>M1</td>\n",
       "      <td>N1</td>\n",
       "      <td>4</td>\n",
       "      <td>T384</td>\n",
       "      <td>19.0</td>\n",
       "      <td>1.0</td>\n",
       "      <td>19.0</td>\n",
       "      <td>19.0</td>\n",
       "      <td>ALL IODISED SALT</td>\n",
       "      <td>POWDERED SALT</td>\n",
       "      <td>POWDERED SALT</td>\n",
       "      <td>TATA CHEM</td>\n",
       "      <td>TATA</td>\n",
       "      <td>TATA SALT</td>\n",
       "    </tr>\n",
       "  </tbody>\n",
       "</table>\n",
       "</div>"
      ],
      "text/plain": [
       "  MONTH STORECODE  DAY BILL_ID  BILL_AMT  QTY  VALUE  PRICE  \\\n",
       "0    M1        N1    4    T375     225.0  1.0  225.0  225.0   \n",
       "1    M1        N1    4    T379      95.0  1.0   95.0   95.0   \n",
       "2    M1        N1    4    T381      10.0  1.0   10.0   10.0   \n",
       "3    M1        N1    4    T382     108.0  1.0  108.0  108.0   \n",
       "4    M1        N1    4    T384      19.0  1.0   19.0   19.0   \n",
       "\n",
       "                       GRP                     SGRP                    SSGRP  \\\n",
       "0     BUTTER MARGR  (4/94)                   BUTTER                   SALTED   \n",
       "1  CONFECTIONERY - ECLAIRS  CONFECTIONERY - ECLAIRS  CONFECTIONERY - ECLAIRS   \n",
       "2                CHOCOLATE         CHOCOLATE PANNED         CHOCOLATE PANNED   \n",
       "3             PACKAGED TEA               MAIN PACKS               MAIN PACKS   \n",
       "4         ALL IODISED SALT            POWDERED SALT            POWDERED SALT   \n",
       "\n",
       "                      CMP           MBRD                 BRD  \n",
       "0               G C M M F           AMUL                AMUL  \n",
       "1             PARLE PRODS         MELODY    MELODY CHOCOLATY  \n",
       "2  MONDELEZ INTERNATIONAL  CADBURY SHOTS       CADBURY SHOTS  \n",
       "3      GUJ TEA PROCESSORS     WAGH BAKRI  WAGH BAKRI INSTANT  \n",
       "4               TATA CHEM           TATA           TATA SALT  "
      ]
     },
     "execution_count": 2,
     "metadata": {},
     "output_type": "execute_result"
    }
   ],
   "source": [
    "df= pd.read_csv(\"C:\\\\Users\\\\ashmi\\\\Downloads\\\\archive\\\\constomerdata.csv\")\n",
    "df.head()"
   ]
  },
  {
   "cell_type": "code",
   "execution_count": 11,
   "id": "7a50a51b",
   "metadata": {},
   "outputs": [
    {
     "data": {
      "text/plain": [
       "(26985, 14)"
      ]
     },
     "execution_count": 11,
     "metadata": {},
     "output_type": "execute_result"
    }
   ],
   "source": [
    "df.shape"
   ]
  },
  {
   "cell_type": "code",
   "execution_count": 12,
   "id": "519e8ee3",
   "metadata": {
    "scrolled": true
   },
   "outputs": [
    {
     "data": {
      "text/html": [
       "<div>\n",
       "<style scoped>\n",
       "    .dataframe tbody tr th:only-of-type {\n",
       "        vertical-align: middle;\n",
       "    }\n",
       "\n",
       "    .dataframe tbody tr th {\n",
       "        vertical-align: top;\n",
       "    }\n",
       "\n",
       "    .dataframe thead th {\n",
       "        text-align: right;\n",
       "    }\n",
       "</style>\n",
       "<table border=\"1\" class=\"dataframe\">\n",
       "  <thead>\n",
       "    <tr style=\"text-align: right;\">\n",
       "      <th></th>\n",
       "      <th>MONTH</th>\n",
       "      <th>STORECODE</th>\n",
       "      <th>DAY</th>\n",
       "      <th>BILL_ID</th>\n",
       "      <th>BILL_AMT</th>\n",
       "      <th>QTY</th>\n",
       "      <th>VALUE</th>\n",
       "      <th>PRICE</th>\n",
       "      <th>GRP</th>\n",
       "      <th>SGRP</th>\n",
       "      <th>SSGRP</th>\n",
       "      <th>CMP</th>\n",
       "      <th>MBRD</th>\n",
       "      <th>BRD</th>\n",
       "    </tr>\n",
       "  </thead>\n",
       "  <tbody>\n",
       "    <tr>\n",
       "      <th>0</th>\n",
       "      <td>M1</td>\n",
       "      <td>N1</td>\n",
       "      <td>4</td>\n",
       "      <td>T375</td>\n",
       "      <td>225.0</td>\n",
       "      <td>1.0</td>\n",
       "      <td>225.0</td>\n",
       "      <td>225.0</td>\n",
       "      <td>BUTTER MARGR  (4/94)</td>\n",
       "      <td>BUTTER</td>\n",
       "      <td>SALTED</td>\n",
       "      <td>G C M M F</td>\n",
       "      <td>AMUL</td>\n",
       "      <td>AMUL</td>\n",
       "    </tr>\n",
       "    <tr>\n",
       "      <th>1</th>\n",
       "      <td>M1</td>\n",
       "      <td>N1</td>\n",
       "      <td>4</td>\n",
       "      <td>T379</td>\n",
       "      <td>95.0</td>\n",
       "      <td>1.0</td>\n",
       "      <td>95.0</td>\n",
       "      <td>95.0</td>\n",
       "      <td>CONFECTIONERY - ECLAIRS</td>\n",
       "      <td>CONFECTIONERY - ECLAIRS</td>\n",
       "      <td>CONFECTIONERY - ECLAIRS</td>\n",
       "      <td>PARLE PRODS</td>\n",
       "      <td>MELODY</td>\n",
       "      <td>MELODY CHOCOLATY</td>\n",
       "    </tr>\n",
       "    <tr>\n",
       "      <th>2</th>\n",
       "      <td>M1</td>\n",
       "      <td>N1</td>\n",
       "      <td>4</td>\n",
       "      <td>T381</td>\n",
       "      <td>10.0</td>\n",
       "      <td>1.0</td>\n",
       "      <td>10.0</td>\n",
       "      <td>10.0</td>\n",
       "      <td>CHOCOLATE</td>\n",
       "      <td>CHOCOLATE PANNED</td>\n",
       "      <td>CHOCOLATE PANNED</td>\n",
       "      <td>MONDELEZ INTERNATIONAL</td>\n",
       "      <td>CADBURY SHOTS</td>\n",
       "      <td>CADBURY SHOTS</td>\n",
       "    </tr>\n",
       "    <tr>\n",
       "      <th>3</th>\n",
       "      <td>M1</td>\n",
       "      <td>N1</td>\n",
       "      <td>4</td>\n",
       "      <td>T382</td>\n",
       "      <td>108.0</td>\n",
       "      <td>1.0</td>\n",
       "      <td>108.0</td>\n",
       "      <td>108.0</td>\n",
       "      <td>PACKAGED TEA</td>\n",
       "      <td>MAIN PACKS</td>\n",
       "      <td>MAIN PACKS</td>\n",
       "      <td>GUJ TEA PROCESSORS</td>\n",
       "      <td>WAGH BAKRI</td>\n",
       "      <td>WAGH BAKRI INSTANT</td>\n",
       "    </tr>\n",
       "    <tr>\n",
       "      <th>4</th>\n",
       "      <td>M1</td>\n",
       "      <td>N1</td>\n",
       "      <td>4</td>\n",
       "      <td>T384</td>\n",
       "      <td>19.0</td>\n",
       "      <td>1.0</td>\n",
       "      <td>19.0</td>\n",
       "      <td>19.0</td>\n",
       "      <td>ALL IODISED SALT</td>\n",
       "      <td>POWDERED SALT</td>\n",
       "      <td>POWDERED SALT</td>\n",
       "      <td>TATA CHEM</td>\n",
       "      <td>TATA</td>\n",
       "      <td>TATA SALT</td>\n",
       "    </tr>\n",
       "    <tr>\n",
       "      <th>5</th>\n",
       "      <td>M1</td>\n",
       "      <td>N1</td>\n",
       "      <td>4</td>\n",
       "      <td>T385</td>\n",
       "      <td>109.0</td>\n",
       "      <td>1.0</td>\n",
       "      <td>10.0</td>\n",
       "      <td>10.0</td>\n",
       "      <td>CHOCOLATE</td>\n",
       "      <td>MOULDED</td>\n",
       "      <td>MOULDED</td>\n",
       "      <td>MONDELEZ INTERNATIONAL</td>\n",
       "      <td>CADBURY DAIRY MILK</td>\n",
       "      <td>DAIRY MILK</td>\n",
       "    </tr>\n",
       "    <tr>\n",
       "      <th>6</th>\n",
       "      <td>M1</td>\n",
       "      <td>N1</td>\n",
       "      <td>4</td>\n",
       "      <td>T385</td>\n",
       "      <td>109.0</td>\n",
       "      <td>1.0</td>\n",
       "      <td>99.0</td>\n",
       "      <td>99.0</td>\n",
       "      <td>READY TO EAT</td>\n",
       "      <td>DESSERT MIXES</td>\n",
       "      <td>TRADITIONAL</td>\n",
       "      <td>M T R FOOD PRODS</td>\n",
       "      <td>MTR</td>\n",
       "      <td>MTR</td>\n",
       "    </tr>\n",
       "    <tr>\n",
       "      <th>7</th>\n",
       "      <td>M1</td>\n",
       "      <td>N1</td>\n",
       "      <td>4</td>\n",
       "      <td>T386</td>\n",
       "      <td>25.0</td>\n",
       "      <td>1.0</td>\n",
       "      <td>5.0</td>\n",
       "      <td>5.0</td>\n",
       "      <td>CHOCOLATE</td>\n",
       "      <td>COATED WAFER BISC</td>\n",
       "      <td>COATED WAFER BISC</td>\n",
       "      <td>GANDOUR INDIA FOOD PROCESSING</td>\n",
       "      <td>GANDOUR</td>\n",
       "      <td>GANDOUR</td>\n",
       "    </tr>\n",
       "    <tr>\n",
       "      <th>8</th>\n",
       "      <td>M1</td>\n",
       "      <td>N1</td>\n",
       "      <td>4</td>\n",
       "      <td>T386</td>\n",
       "      <td>25.0</td>\n",
       "      <td>1.0</td>\n",
       "      <td>10.0</td>\n",
       "      <td>10.0</td>\n",
       "      <td>SALTY SNACKS (2/97)</td>\n",
       "      <td>POTATO WAFERS</td>\n",
       "      <td>POTATO WAFERS</td>\n",
       "      <td>PEPSICO INDIA</td>\n",
       "      <td>LAYS</td>\n",
       "      <td>LAYS AMERICAN STYLE</td>\n",
       "    </tr>\n",
       "    <tr>\n",
       "      <th>9</th>\n",
       "      <td>M1</td>\n",
       "      <td>N1</td>\n",
       "      <td>4</td>\n",
       "      <td>T386</td>\n",
       "      <td>25.0</td>\n",
       "      <td>1.0</td>\n",
       "      <td>10.0</td>\n",
       "      <td>10.0</td>\n",
       "      <td>SALTY SNACKS (2/97)</td>\n",
       "      <td>POTATO WAFERS</td>\n",
       "      <td>POTATO WAFERS</td>\n",
       "      <td>PEPSICO INDIA</td>\n",
       "      <td>LAYS</td>\n",
       "      <td>LAYS CARIBBEAN STYLE</td>\n",
       "    </tr>\n",
       "    <tr>\n",
       "      <th>10</th>\n",
       "      <td>M1</td>\n",
       "      <td>N1</td>\n",
       "      <td>4</td>\n",
       "      <td>T389</td>\n",
       "      <td>10.0</td>\n",
       "      <td>1.0</td>\n",
       "      <td>10.0</td>\n",
       "      <td>10.0</td>\n",
       "      <td>CHOCOLATE</td>\n",
       "      <td>MOULDED</td>\n",
       "      <td>MOULDED</td>\n",
       "      <td>MONDELEZ INTERNATIONAL</td>\n",
       "      <td>CADBURY DAIRY MILK</td>\n",
       "      <td>DAIRY MILK</td>\n",
       "    </tr>\n",
       "    <tr>\n",
       "      <th>11</th>\n",
       "      <td>M1</td>\n",
       "      <td>N1</td>\n",
       "      <td>4</td>\n",
       "      <td>T390</td>\n",
       "      <td>20.0</td>\n",
       "      <td>1.0</td>\n",
       "      <td>10.0</td>\n",
       "      <td>10.0</td>\n",
       "      <td>CHOCOLATE</td>\n",
       "      <td>CHOCOLATE PANNED</td>\n",
       "      <td>CHOCOLATE PANNED</td>\n",
       "      <td>MONDELEZ INTERNATIONAL</td>\n",
       "      <td>CADBURY SHOTS</td>\n",
       "      <td>CADBURY SHOTS</td>\n",
       "    </tr>\n",
       "    <tr>\n",
       "      <th>12</th>\n",
       "      <td>M1</td>\n",
       "      <td>N1</td>\n",
       "      <td>4</td>\n",
       "      <td>T390</td>\n",
       "      <td>20.0</td>\n",
       "      <td>1.0</td>\n",
       "      <td>10.0</td>\n",
       "      <td>10.0</td>\n",
       "      <td>BISCUITS - CORE &amp; NON CORE</td>\n",
       "      <td>CREAM</td>\n",
       "      <td>CREAM</td>\n",
       "      <td>MONDELEZ INTERNATIONAL</td>\n",
       "      <td>OREO</td>\n",
       "      <td>GOLDEN OREO</td>\n",
       "    </tr>\n",
       "    <tr>\n",
       "      <th>13</th>\n",
       "      <td>M1</td>\n",
       "      <td>N1</td>\n",
       "      <td>4</td>\n",
       "      <td>T391</td>\n",
       "      <td>10.0</td>\n",
       "      <td>1.0</td>\n",
       "      <td>10.0</td>\n",
       "      <td>10.0</td>\n",
       "      <td>SPICES (03/04)</td>\n",
       "      <td>BLENDED</td>\n",
       "      <td>MANCHURIAN MASALA</td>\n",
       "      <td>CAPITAL FOODS</td>\n",
       "      <td>CHING'S SECRET</td>\n",
       "      <td>CHING'S SECRET</td>\n",
       "    </tr>\n",
       "    <tr>\n",
       "      <th>14</th>\n",
       "      <td>M1</td>\n",
       "      <td>N1</td>\n",
       "      <td>4</td>\n",
       "      <td>T392</td>\n",
       "      <td>10.0</td>\n",
       "      <td>1.0</td>\n",
       "      <td>10.0</td>\n",
       "      <td>10.0</td>\n",
       "      <td>PACKAGED TEA</td>\n",
       "      <td>MAIN PACKS</td>\n",
       "      <td>MAIN PACKS</td>\n",
       "      <td>GUJ TEA PROCESSORS</td>\n",
       "      <td>WAGH BAKRI</td>\n",
       "      <td>WAGH BAKRI PATTI LEAF</td>\n",
       "    </tr>\n",
       "    <tr>\n",
       "      <th>15</th>\n",
       "      <td>M1</td>\n",
       "      <td>N1</td>\n",
       "      <td>4</td>\n",
       "      <td>T396</td>\n",
       "      <td>10.0</td>\n",
       "      <td>1.0</td>\n",
       "      <td>10.0</td>\n",
       "      <td>10.0</td>\n",
       "      <td>PACKAGED TEA</td>\n",
       "      <td>MAIN PACKS</td>\n",
       "      <td>MAIN PACKS</td>\n",
       "      <td>HASMUKHRAI &amp; CO</td>\n",
       "      <td>SOCIETY</td>\n",
       "      <td>SOCIETY LEAF</td>\n",
       "    </tr>\n",
       "    <tr>\n",
       "      <th>16</th>\n",
       "      <td>M1</td>\n",
       "      <td>N1</td>\n",
       "      <td>4</td>\n",
       "      <td>T399</td>\n",
       "      <td>29.0</td>\n",
       "      <td>1.0</td>\n",
       "      <td>10.0</td>\n",
       "      <td>10.0</td>\n",
       "      <td>SALTY SNACKS (2/97)</td>\n",
       "      <td>POTATO WAFERS</td>\n",
       "      <td>POTATO WAFERS</td>\n",
       "      <td>PEPSICO INDIA</td>\n",
       "      <td>LAYS</td>\n",
       "      <td>LAYS CLASSIC SALTED</td>\n",
       "    </tr>\n",
       "    <tr>\n",
       "      <th>17</th>\n",
       "      <td>M1</td>\n",
       "      <td>N1</td>\n",
       "      <td>4</td>\n",
       "      <td>T399</td>\n",
       "      <td>29.0</td>\n",
       "      <td>1.0</td>\n",
       "      <td>19.0</td>\n",
       "      <td>19.0</td>\n",
       "      <td>ALL IODISED SALT</td>\n",
       "      <td>POWDERED SALT</td>\n",
       "      <td>POWDERED SALT</td>\n",
       "      <td>TATA CHEM</td>\n",
       "      <td>TATA</td>\n",
       "      <td>TATA SALT</td>\n",
       "    </tr>\n",
       "    <tr>\n",
       "      <th>18</th>\n",
       "      <td>M1</td>\n",
       "      <td>N1</td>\n",
       "      <td>4</td>\n",
       "      <td>T400</td>\n",
       "      <td>40.0</td>\n",
       "      <td>10.0</td>\n",
       "      <td>30.0</td>\n",
       "      <td>3.0</td>\n",
       "      <td>PRE-POST WASH PRODUCTS</td>\n",
       "      <td>FABRIC SOFTNERS</td>\n",
       "      <td>FABRIC SOFTNERS</td>\n",
       "      <td>HINDUSTAN UNILEVER LIMITED</td>\n",
       "      <td>COMFORT</td>\n",
       "      <td>COMFORT BLUE - MORNING FRESH</td>\n",
       "    </tr>\n",
       "    <tr>\n",
       "      <th>19</th>\n",
       "      <td>M1</td>\n",
       "      <td>N1</td>\n",
       "      <td>4</td>\n",
       "      <td>T400</td>\n",
       "      <td>40.0</td>\n",
       "      <td>1.0</td>\n",
       "      <td>10.0</td>\n",
       "      <td>10.0</td>\n",
       "      <td>MILK POWDERS</td>\n",
       "      <td>DAIRY WHITNERS</td>\n",
       "      <td>DAIRY WHITNERS</td>\n",
       "      <td>NESTLE INDIA</td>\n",
       "      <td>EVERYDAY</td>\n",
       "      <td>EVERYDAY DAIRY WHITNER</td>\n",
       "    </tr>\n",
       "  </tbody>\n",
       "</table>\n",
       "</div>"
      ],
      "text/plain": [
       "   MONTH STORECODE  DAY BILL_ID  BILL_AMT   QTY  VALUE  PRICE  \\\n",
       "0     M1        N1    4    T375     225.0   1.0  225.0  225.0   \n",
       "1     M1        N1    4    T379      95.0   1.0   95.0   95.0   \n",
       "2     M1        N1    4    T381      10.0   1.0   10.0   10.0   \n",
       "3     M1        N1    4    T382     108.0   1.0  108.0  108.0   \n",
       "4     M1        N1    4    T384      19.0   1.0   19.0   19.0   \n",
       "5     M1        N1    4    T385     109.0   1.0   10.0   10.0   \n",
       "6     M1        N1    4    T385     109.0   1.0   99.0   99.0   \n",
       "7     M1        N1    4    T386      25.0   1.0    5.0    5.0   \n",
       "8     M1        N1    4    T386      25.0   1.0   10.0   10.0   \n",
       "9     M1        N1    4    T386      25.0   1.0   10.0   10.0   \n",
       "10    M1        N1    4    T389      10.0   1.0   10.0   10.0   \n",
       "11    M1        N1    4    T390      20.0   1.0   10.0   10.0   \n",
       "12    M1        N1    4    T390      20.0   1.0   10.0   10.0   \n",
       "13    M1        N1    4    T391      10.0   1.0   10.0   10.0   \n",
       "14    M1        N1    4    T392      10.0   1.0   10.0   10.0   \n",
       "15    M1        N1    4    T396      10.0   1.0   10.0   10.0   \n",
       "16    M1        N1    4    T399      29.0   1.0   10.0   10.0   \n",
       "17    M1        N1    4    T399      29.0   1.0   19.0   19.0   \n",
       "18    M1        N1    4    T400      40.0  10.0   30.0    3.0   \n",
       "19    M1        N1    4    T400      40.0   1.0   10.0   10.0   \n",
       "\n",
       "                           GRP                     SGRP  \\\n",
       "0         BUTTER MARGR  (4/94)                   BUTTER   \n",
       "1      CONFECTIONERY - ECLAIRS  CONFECTIONERY - ECLAIRS   \n",
       "2                    CHOCOLATE         CHOCOLATE PANNED   \n",
       "3                 PACKAGED TEA               MAIN PACKS   \n",
       "4             ALL IODISED SALT            POWDERED SALT   \n",
       "5                    CHOCOLATE                  MOULDED   \n",
       "6                 READY TO EAT            DESSERT MIXES   \n",
       "7                    CHOCOLATE        COATED WAFER BISC   \n",
       "8          SALTY SNACKS (2/97)            POTATO WAFERS   \n",
       "9          SALTY SNACKS (2/97)            POTATO WAFERS   \n",
       "10                   CHOCOLATE                  MOULDED   \n",
       "11                   CHOCOLATE         CHOCOLATE PANNED   \n",
       "12  BISCUITS - CORE & NON CORE                    CREAM   \n",
       "13              SPICES (03/04)                  BLENDED   \n",
       "14                PACKAGED TEA               MAIN PACKS   \n",
       "15                PACKAGED TEA               MAIN PACKS   \n",
       "16         SALTY SNACKS (2/97)            POTATO WAFERS   \n",
       "17            ALL IODISED SALT            POWDERED SALT   \n",
       "18      PRE-POST WASH PRODUCTS          FABRIC SOFTNERS   \n",
       "19                MILK POWDERS           DAIRY WHITNERS   \n",
       "\n",
       "                      SSGRP                            CMP  \\\n",
       "0                    SALTED                      G C M M F   \n",
       "1   CONFECTIONERY - ECLAIRS                    PARLE PRODS   \n",
       "2          CHOCOLATE PANNED         MONDELEZ INTERNATIONAL   \n",
       "3                MAIN PACKS             GUJ TEA PROCESSORS   \n",
       "4             POWDERED SALT                      TATA CHEM   \n",
       "5                   MOULDED         MONDELEZ INTERNATIONAL   \n",
       "6               TRADITIONAL               M T R FOOD PRODS   \n",
       "7         COATED WAFER BISC  GANDOUR INDIA FOOD PROCESSING   \n",
       "8             POTATO WAFERS                  PEPSICO INDIA   \n",
       "9             POTATO WAFERS                  PEPSICO INDIA   \n",
       "10                  MOULDED         MONDELEZ INTERNATIONAL   \n",
       "11         CHOCOLATE PANNED         MONDELEZ INTERNATIONAL   \n",
       "12                    CREAM         MONDELEZ INTERNATIONAL   \n",
       "13        MANCHURIAN MASALA                  CAPITAL FOODS   \n",
       "14               MAIN PACKS             GUJ TEA PROCESSORS   \n",
       "15               MAIN PACKS                HASMUKHRAI & CO   \n",
       "16            POTATO WAFERS                  PEPSICO INDIA   \n",
       "17            POWDERED SALT                      TATA CHEM   \n",
       "18          FABRIC SOFTNERS     HINDUSTAN UNILEVER LIMITED   \n",
       "19           DAIRY WHITNERS                   NESTLE INDIA   \n",
       "\n",
       "                  MBRD                           BRD  \n",
       "0                 AMUL                          AMUL  \n",
       "1               MELODY              MELODY CHOCOLATY  \n",
       "2        CADBURY SHOTS                 CADBURY SHOTS  \n",
       "3           WAGH BAKRI            WAGH BAKRI INSTANT  \n",
       "4                 TATA                     TATA SALT  \n",
       "5   CADBURY DAIRY MILK                    DAIRY MILK  \n",
       "6                  MTR                           MTR  \n",
       "7              GANDOUR                       GANDOUR  \n",
       "8                 LAYS           LAYS AMERICAN STYLE  \n",
       "9                 LAYS          LAYS CARIBBEAN STYLE  \n",
       "10  CADBURY DAIRY MILK                    DAIRY MILK  \n",
       "11       CADBURY SHOTS                 CADBURY SHOTS  \n",
       "12                OREO                   GOLDEN OREO  \n",
       "13      CHING'S SECRET                CHING'S SECRET  \n",
       "14          WAGH BAKRI         WAGH BAKRI PATTI LEAF  \n",
       "15             SOCIETY                  SOCIETY LEAF  \n",
       "16                LAYS           LAYS CLASSIC SALTED  \n",
       "17                TATA                     TATA SALT  \n",
       "18             COMFORT  COMFORT BLUE - MORNING FRESH  \n",
       "19            EVERYDAY        EVERYDAY DAIRY WHITNER  "
      ]
     },
     "execution_count": 12,
     "metadata": {},
     "output_type": "execute_result"
    }
   ],
   "source": [
    "df.head(20)"
   ]
  },
  {
   "cell_type": "code",
   "execution_count": 13,
   "id": "add981d7",
   "metadata": {},
   "outputs": [
    {
     "name": "stdout",
     "output_type": "stream",
     "text": [
      "<class 'pandas.core.frame.DataFrame'>\n",
      "RangeIndex: 26985 entries, 0 to 26984\n",
      "Data columns (total 14 columns):\n",
      " #   Column     Non-Null Count  Dtype  \n",
      "---  ------     --------------  -----  \n",
      " 0   MONTH      26985 non-null  object \n",
      " 1   STORECODE  26985 non-null  object \n",
      " 2   DAY        26985 non-null  int64  \n",
      " 3   BILL_ID    26985 non-null  object \n",
      " 4   BILL_AMT   26985 non-null  float64\n",
      " 5   QTY        26985 non-null  float64\n",
      " 6   VALUE      26985 non-null  float64\n",
      " 7   PRICE      26985 non-null  float64\n",
      " 8   GRP        26985 non-null  object \n",
      " 9   SGRP       26985 non-null  object \n",
      " 10  SSGRP      26985 non-null  object \n",
      " 11  CMP        26985 non-null  object \n",
      " 12  MBRD       26985 non-null  object \n",
      " 13  BRD        26985 non-null  object \n",
      "dtypes: float64(4), int64(1), object(9)\n",
      "memory usage: 2.9+ MB\n"
     ]
    }
   ],
   "source": [
    "df.info()\n"
   ]
  },
  {
   "cell_type": "markdown",
   "id": "a2b890c8",
   "metadata": {},
   "source": [
    "#\n",
    "Hence there are no null values"
   ]
  },
  {
   "cell_type": "code",
   "execution_count": 32,
   "id": "4d937a97",
   "metadata": {
    "scrolled": false
   },
   "outputs": [
    {
     "data": {
      "text/html": [
       "<div>\n",
       "<style scoped>\n",
       "    .dataframe tbody tr th:only-of-type {\n",
       "        vertical-align: middle;\n",
       "    }\n",
       "\n",
       "    .dataframe tbody tr th {\n",
       "        vertical-align: top;\n",
       "    }\n",
       "\n",
       "    .dataframe thead th {\n",
       "        text-align: right;\n",
       "    }\n",
       "</style>\n",
       "<table border=\"1\" class=\"dataframe\">\n",
       "  <thead>\n",
       "    <tr style=\"text-align: right;\">\n",
       "      <th></th>\n",
       "      <th>MONTH</th>\n",
       "      <th>STORECODE</th>\n",
       "      <th>DAY</th>\n",
       "      <th>BILL_ID</th>\n",
       "      <th>BILL_AMT</th>\n",
       "      <th>QTY</th>\n",
       "      <th>VALUE</th>\n",
       "      <th>PRICE</th>\n",
       "      <th>GRP</th>\n",
       "      <th>SGRP</th>\n",
       "      <th>SSGRP</th>\n",
       "      <th>CMP</th>\n",
       "      <th>MBRD</th>\n",
       "      <th>brand_types</th>\n",
       "    </tr>\n",
       "  </thead>\n",
       "  <tbody>\n",
       "    <tr>\n",
       "      <th>0</th>\n",
       "      <td>M1</td>\n",
       "      <td>N1</td>\n",
       "      <td>4</td>\n",
       "      <td>T375</td>\n",
       "      <td>225.0</td>\n",
       "      <td>1.0</td>\n",
       "      <td>225.0</td>\n",
       "      <td>225.0</td>\n",
       "      <td>BUTTER MARGR  (4/94)</td>\n",
       "      <td>BUTTER</td>\n",
       "      <td>SALTED</td>\n",
       "      <td>G C M M F</td>\n",
       "      <td>AMUL</td>\n",
       "      <td>AMUL</td>\n",
       "    </tr>\n",
       "    <tr>\n",
       "      <th>1</th>\n",
       "      <td>M1</td>\n",
       "      <td>N1</td>\n",
       "      <td>4</td>\n",
       "      <td>T379</td>\n",
       "      <td>95.0</td>\n",
       "      <td>1.0</td>\n",
       "      <td>95.0</td>\n",
       "      <td>95.0</td>\n",
       "      <td>CONFECTIONERY - ECLAIRS</td>\n",
       "      <td>CONFECTIONERY - ECLAIRS</td>\n",
       "      <td>CONFECTIONERY - ECLAIRS</td>\n",
       "      <td>PARLE PRODS</td>\n",
       "      <td>MELODY</td>\n",
       "      <td>OTHERS</td>\n",
       "    </tr>\n",
       "    <tr>\n",
       "      <th>2</th>\n",
       "      <td>M1</td>\n",
       "      <td>N1</td>\n",
       "      <td>4</td>\n",
       "      <td>T381</td>\n",
       "      <td>10.0</td>\n",
       "      <td>1.0</td>\n",
       "      <td>10.0</td>\n",
       "      <td>10.0</td>\n",
       "      <td>CHOCOLATE</td>\n",
       "      <td>CHOCOLATE PANNED</td>\n",
       "      <td>CHOCOLATE PANNED</td>\n",
       "      <td>MONDELEZ INTERNATIONAL</td>\n",
       "      <td>CADBURY SHOTS</td>\n",
       "      <td>OTHERS</td>\n",
       "    </tr>\n",
       "    <tr>\n",
       "      <th>3</th>\n",
       "      <td>M1</td>\n",
       "      <td>N1</td>\n",
       "      <td>4</td>\n",
       "      <td>T382</td>\n",
       "      <td>108.0</td>\n",
       "      <td>1.0</td>\n",
       "      <td>108.0</td>\n",
       "      <td>108.0</td>\n",
       "      <td>PACKAGED TEA</td>\n",
       "      <td>MAIN PACKS</td>\n",
       "      <td>MAIN PACKS</td>\n",
       "      <td>GUJ TEA PROCESSORS</td>\n",
       "      <td>WAGH BAKRI</td>\n",
       "      <td>OTHERS</td>\n",
       "    </tr>\n",
       "    <tr>\n",
       "      <th>4</th>\n",
       "      <td>M1</td>\n",
       "      <td>N1</td>\n",
       "      <td>4</td>\n",
       "      <td>T384</td>\n",
       "      <td>19.0</td>\n",
       "      <td>1.0</td>\n",
       "      <td>19.0</td>\n",
       "      <td>19.0</td>\n",
       "      <td>ALL IODISED SALT</td>\n",
       "      <td>POWDERED SALT</td>\n",
       "      <td>POWDERED SALT</td>\n",
       "      <td>TATA CHEM</td>\n",
       "      <td>TATA</td>\n",
       "      <td>TATA SALT</td>\n",
       "    </tr>\n",
       "  </tbody>\n",
       "</table>\n",
       "</div>"
      ],
      "text/plain": [
       "  MONTH STORECODE  DAY BILL_ID  BILL_AMT  QTY  VALUE  PRICE  \\\n",
       "0    M1        N1    4    T375     225.0  1.0  225.0  225.0   \n",
       "1    M1        N1    4    T379      95.0  1.0   95.0   95.0   \n",
       "2    M1        N1    4    T381      10.0  1.0   10.0   10.0   \n",
       "3    M1        N1    4    T382     108.0  1.0  108.0  108.0   \n",
       "4    M1        N1    4    T384      19.0  1.0   19.0   19.0   \n",
       "\n",
       "                       GRP                     SGRP                    SSGRP  \\\n",
       "0     BUTTER MARGR  (4/94)                   BUTTER                   SALTED   \n",
       "1  CONFECTIONERY - ECLAIRS  CONFECTIONERY - ECLAIRS  CONFECTIONERY - ECLAIRS   \n",
       "2                CHOCOLATE         CHOCOLATE PANNED         CHOCOLATE PANNED   \n",
       "3             PACKAGED TEA               MAIN PACKS               MAIN PACKS   \n",
       "4         ALL IODISED SALT            POWDERED SALT            POWDERED SALT   \n",
       "\n",
       "                      CMP           MBRD brand_types  \n",
       "0               G C M M F           AMUL        AMUL  \n",
       "1             PARLE PRODS         MELODY      OTHERS  \n",
       "2  MONDELEZ INTERNATIONAL  CADBURY SHOTS      OTHERS  \n",
       "3      GUJ TEA PROCESSORS     WAGH BAKRI      OTHERS  \n",
       "4               TATA CHEM           TATA   TATA SALT  "
      ]
     },
     "execution_count": 32,
     "metadata": {},
     "output_type": "execute_result"
    }
   ],
   "source": [
    "df.head()"
   ]
  },
  {
   "cell_type": "code",
   "execution_count": 21,
   "id": "510b0d13",
   "metadata": {},
   "outputs": [
    {
     "data": {
      "text/plain": [
       "MARIE GOLD REGULAR               786\n",
       "AMUL                             775\n",
       "EVEREST                          669\n",
       "MAGGI MASALA                     641\n",
       "PARLE-G                          603\n",
       "                                ... \n",
       "NUTRI GOLD                         1\n",
       "MEXITOS NACHO CHIPS                1\n",
       "HARPIC FRESH PINE                  1\n",
       "AXE SIGNATURE TICKET CHAMPION      1\n",
       "JABSONS PEANUT                     1\n",
       "Name: brand_types, Length: 1315, dtype: int64"
      ]
     },
     "execution_count": 21,
     "metadata": {},
     "output_type": "execute_result"
    }
   ],
   "source": [
    "df['brand_types'].value_counts()"
   ]
  },
  {
   "cell_type": "markdown",
   "id": "ee89a62c",
   "metadata": {},
   "source": [
    "# Looking brand types least sold"
   ]
  },
  {
   "cell_type": "code",
   "execution_count": 33,
   "id": "a3df8729",
   "metadata": {},
   "outputs": [
    {
     "data": {
      "text/plain": [
       "FORTUNE                          273\n",
       "NUTRICHOICE DIGESTIVE            273\n",
       "PARACHUTE                        270\n",
       "WHEEL GREEN                      261\n",
       "HIDE & SEEK CHOCOLATE CHIP       254\n",
       "                                ... \n",
       "NUTRI GOLD                         1\n",
       "MEXITOS NACHO CHIPS                1\n",
       "HARPIC FRESH PINE                  1\n",
       "AXE SIGNATURE TICKET CHAMPION      1\n",
       "JABSONS PEANUT                     1\n",
       "Name: BRD, Length: 1302, dtype: int64"
      ]
     },
     "execution_count": 33,
     "metadata": {},
     "output_type": "execute_result"
    }
   ],
   "source": [
    "\n",
    "brand_types_lessthan300=brand_types[brand_types<300]\n",
    "brand_types_lessthan300"
   ]
  },
  {
   "cell_type": "code",
   "execution_count": 34,
   "id": "add733af",
   "metadata": {},
   "outputs": [
    {
     "data": {
      "text/plain": [
       "OTHERS                20196\n",
       "MARIE GOLD REGULAR      786\n",
       "AMUL                    775\n",
       "EVEREST                 669\n",
       "MAGGI MASALA            641\n",
       "PARLE-G                 603\n",
       "DAIRY MILK              499\n",
       "GOOD DAY CASHEW         499\n",
       "MONACO                  476\n",
       "SOCIETY LEAF            426\n",
       "VIM                     385\n",
       "TATA SALT               367\n",
       "PARLE KRACK JACK        353\n",
       "BRITANNIA BOURBON       310\n",
       "Name: brand_types, dtype: int64"
      ]
     },
     "execution_count": 34,
     "metadata": {},
     "output_type": "execute_result"
    }
   ],
   "source": [
    "# we are clubbing those brands having value less than 300 as OTHERS\n",
    "def handle_brand_types(value):\n",
    "    if (value in brand_types_lessthan300):\n",
    "        return 'OTHERS'\n",
    "    else:\n",
    "        return value\n",
    "df['brand_types']=df['brand_types'].apply(handle_brand_types)\n",
    "df['brand_types'].value_counts()"
   ]
  },
  {
   "cell_type": "code",
   "execution_count": 35,
   "id": "5fae8974",
   "metadata": {},
   "outputs": [
    {
     "data": {
      "text/plain": [
       "MARIE GOLD          977\n",
       "MAGGI               812\n",
       "AMUL                779\n",
       "EVEREST             712\n",
       "GOOD DAY            687\n",
       "                   ... \n",
       "SRI SRI AYURVEDA      1\n",
       "RHYTHM                1\n",
       "555                   1\n",
       "MENTOS                1\n",
       "JABSONS               1\n",
       "Name: MBRD, Length: 643, dtype: int64"
      ]
     },
     "execution_count": 35,
     "metadata": {},
     "output_type": "execute_result"
    }
   ],
   "source": [
    "df['MBRD'].value_counts()"
   ]
  },
  {
   "cell_type": "code",
   "execution_count": 41,
   "id": "bdd25d71",
   "metadata": {},
   "outputs": [
    {
     "data": {
      "text/plain": [
       "TATA                389\n",
       "NUTRICHOICE         367\n",
       "PARLE KRACK JACK    353\n",
       "RIN                 333\n",
       "PARACHUTE           319\n",
       "                   ... \n",
       "SRI SRI AYURVEDA      1\n",
       "RHYTHM                1\n",
       "555                   1\n",
       "MENTOS                1\n",
       "JABSONS               1\n",
       "Name: MBRD, Length: 629, dtype: int64"
      ]
     },
     "execution_count": 41,
     "metadata": {},
     "output_type": "execute_result"
    }
   ],
   "source": [
    "MBRD= df['MBRD'].value_counts(ascending= False)\n",
    "MBRD_lessthan400=MBRD[MBRD<400]\n",
    "MBRD_lessthan400"
   ]
  },
  {
   "cell_type": "code",
   "execution_count": 42,
   "id": "aeb12b08",
   "metadata": {},
   "outputs": [
    {
     "data": {
      "text/plain": [
       "OTHERS                18507\n",
       "MARIE GOLD              977\n",
       "MAGGI                   812\n",
       "AMUL                    779\n",
       "EVEREST                 712\n",
       "GOOD DAY                687\n",
       "PARLE-G                 603\n",
       "LAYS                    595\n",
       "CADBURY DAIRY MILK      583\n",
       "WHEEL                   536\n",
       "MONACO                  476\n",
       "PATANJALI               446\n",
       "VIM                     434\n",
       "SOCIETY                 430\n",
       "OREO                    408\n",
       "Name: MBRD, dtype: int64"
      ]
     },
     "execution_count": 42,
     "metadata": {},
     "output_type": "execute_result"
    }
   ],
   "source": [
    "def handle_MBRD(value):\n",
    "    if (value in MBRD_lessthan400):\n",
    "        return 'OTHERS'\n",
    "    else:\n",
    "        return value\n",
    "df['MBRD']=df['MBRD'].apply(handle_MBRD)\n",
    "df['MBRD'].value_counts()"
   ]
  },
  {
   "cell_type": "code",
   "execution_count": 55,
   "id": "80236e50",
   "metadata": {},
   "outputs": [
    {
     "data": {
      "text/plain": [
       "OTHERS                           8062\n",
       "BISCUITS - CORE & NON CORE       6677\n",
       "SALTY SNACKS (2/97)              1721\n",
       "CHOCOLATE                        1408\n",
       "SPICES (03/04)                   1347\n",
       "VERMICELLI & NOODLE              1330\n",
       "WASHING POWDERS/LIQUIDS          1208\n",
       "PACKAGED TEA                      983\n",
       "TOILET SOAPS (04/00)              933\n",
       "REFINED EDIBLE OILS-ALL PACKS     851\n",
       "CLEANERS - UTENSIL                666\n",
       "TOOTH PASTES                      661\n",
       "PACKAGED ATTA (1/95)              608\n",
       "BUTTER MARGR  (4/94)              530\n",
       "Name: GRP, dtype: int64"
      ]
     },
     "execution_count": 55,
     "metadata": {},
     "output_type": "execute_result"
    }
   ],
   "source": [
    "\n",
    "df['GRP'].value_counts()"
   ]
  },
  {
   "cell_type": "code",
   "execution_count": 51,
   "id": "555cea6d",
   "metadata": {},
   "outputs": [
    {
     "data": {
      "text/plain": [
       "OTHERS                           8062\n",
       "BISCUITS - CORE & NON CORE       6677\n",
       "SALTY SNACKS (2/97)              1721\n",
       "CHOCOLATE                        1408\n",
       "SPICES (03/04)                   1347\n",
       "VERMICELLI & NOODLE              1330\n",
       "WASHING POWDERS/LIQUIDS          1208\n",
       "PACKAGED TEA                      983\n",
       "TOILET SOAPS (04/00)              933\n",
       "REFINED EDIBLE OILS-ALL PACKS     851\n",
       "CLEANERS - UTENSIL                666\n",
       "TOOTH PASTES                      661\n",
       "PACKAGED ATTA (1/95)              608\n",
       "BUTTER MARGR  (4/94)              530\n",
       "Name: GRP, dtype: int64"
      ]
     },
     "execution_count": 51,
     "metadata": {},
     "output_type": "execute_result"
    }
   ],
   "source": [
    "GRP= df['GRP'].value_counts(ascending= False)\n",
    "GRP_lessthan500=GRP[GRP<500]\n",
    "def handle_GRP(value):\n",
    "    if (value in GRP_lessthan500):\n",
    "        return 'OTHERS'\n",
    "    else:\n",
    "        return value\n",
    "df['GRP']=df['GRP'].apply(handle_GRP)\n",
    "df['GRP'].value_counts()"
   ]
  },
  {
   "cell_type": "markdown",
   "id": "f7ded89e",
   "metadata": {},
   "source": [
    "# Evaluating the stores with maximum Sales"
   ]
  },
  {
   "cell_type": "code",
   "execution_count": 3,
   "id": "6398db40",
   "metadata": {},
   "outputs": [
    {
     "data": {
      "text/plain": [
       "STORECODE\n",
       "N1     4583\n",
       "N10    2169\n",
       "N2     1331\n",
       "N3     1793\n",
       "N4     3212\n",
       "N5     4431\n",
       "N6     1185\n",
       "N7     5625\n",
       "N8     1128\n",
       "N9     1528\n",
       "Name: QTY, dtype: int64"
      ]
     },
     "execution_count": 3,
     "metadata": {},
     "output_type": "execute_result"
    }
   ],
   "source": [
    "sales_per_month=df.groupby(['STORECODE'])['QTY'].count()\n",
    "sales_per_month"
   ]
  },
  {
   "cell_type": "markdown",
   "id": "b1b8db57",
   "metadata": {},
   "source": [
    "#\n",
    "Hence it is in store 7 (N7) maximum sales took place."
   ]
  },
  {
   "cell_type": "markdown",
   "id": "b7624b80",
   "metadata": {},
   "source": [
    "#  Data Visualisation\n"
   ]
  },
  {
   "cell_type": "markdown",
   "id": "d10cbf42",
   "metadata": {},
   "source": [
    "# 1. Heatmap to analyse the relationship between Quantity, Day and Price"
   ]
  },
  {
   "cell_type": "code",
   "execution_count": 12,
   "id": "ecf96a72",
   "metadata": {},
   "outputs": [
    {
     "data": {
      "text/plain": [
       "<Axes: >"
      ]
     },
     "execution_count": 12,
     "metadata": {},
     "output_type": "execute_result"
    },
    {
     "data": {
      "image/png": "[encoded data removed]",
      "text/plain": [
       "<Figure size 1400x1000 with 2 Axes>"
      ]
     },
     "metadata": {},
     "output_type": "display_data"
    }
   ],
   "source": [
    "# heatmap\n",
    "metrics=df[['QTY','DAY','PRICE']].corr()\n",
    "f,ax=plt.subplots(figsize=(14,10))\n",
    "sns.heatmap(metrics,vmax=0.7,annot= True)"
   ]
  },
  {
   "cell_type": "markdown",
   "id": "8d81d394",
   "metadata": {},
   "source": [
    "# 2.Understanding the sales from top 50 groups"
   ]
  },
  {
   "cell_type": "code",
   "execution_count": 78,
   "id": "cb43a2ec",
   "metadata": {},
   "outputs": [
    {
     "name": "stderr",
     "output_type": "stream",
     "text": [
      "C:\\Users\\ashmi\\AppData\\Local\\Temp\\ipykernel_3032\\1164111317.py:1: FutureWarning: The default value of numeric_only in DataFrameGroupBy.sum is deprecated. In a future version, numeric_only will default to False. Either specify numeric_only or select only columns which should be valid for the function.\n",
      "  items_max_sold=df.groupby('GRP').sum().sort_values(\"VALUE\",ascending=False)[['QTY','VALUE']][0:50]\n"
     ]
    },
    {
     "data": {
      "image/png": "[encoded data removed]",
      "text/plain": [
       "<Figure size 1200x800 with 1 Axes>"
      ]
     },
     "metadata": {},
     "output_type": "display_data"
    }
   ],
   "source": [
    "items_max_sold=df.groupby('GRP').sum().sort_values(\"VALUE\",ascending=False)[['QTY','VALUE']][0:50]\n",
    "plt.figure(figsize=(12,8))\n",
    "sns.barplot(x='VALUE',y=items_max_sold.index,data=items_max_sold)\n",
    "plt.title(\"sales from top 50 Groups\")\n",
    "plt.xlabel(\"sales\")\n",
    "plt.ylabel(\"Group\")\n",
    "plt.grid(axis='x',color='black');"
   ]
  },
  {
   "cell_type": "markdown",
   "id": "1dfdf4e9",
   "metadata": {},
   "source": [
    "# 3. Now let's see the top type of good purchased by consumers\n"
   ]
  },
  {
   "cell_type": "code",
   "execution_count": 79,
   "id": "2c098e17",
   "metadata": {
    "scrolled": true
   },
   "outputs": [
    {
     "name": "stderr",
     "output_type": "stream",
     "text": [
      "C:\\Users\\ashmi\\AppData\\Local\\Temp\\ipykernel_3032\\3457345483.py:1: FutureWarning: The default value of numeric_only in DataFrameGroupBy.sum is deprecated. In a future version, numeric_only will default to False. Either specify numeric_only or select only columns which should be valid for the function.\n",
      "  good_type=df.groupby('SGRP').sum().sort_values(\"VALUE\",ascending=False)[['QTY','VALUE']][0:15]\n"
     ]
    },
    {
     "data": {
      "image/png": "[encoded data removed]",
      "text/plain": [
       "<Figure size 1200x800 with 1 Axes>"
      ]
     },
     "metadata": {},
     "output_type": "display_data"
    }
   ],
   "source": [
    "good_type=df.groupby('SGRP').sum().sort_values(\"VALUE\",ascending=False)[['QTY','VALUE']][0:15]\n",
    "plt.figure(figsize=(12,8))\n",
    "sns.barplot(x='VALUE',y=good_type.index,data=good_type)\n",
    "plt.title(\"Top Good Types\")\n",
    "plt.xlabel(\"sales\")\n",
    "plt.ylabel(\"Type\")\n",
    "plt.grid(axis='x',color='black');"
   ]
  },
  {
   "cell_type": "markdown",
   "id": "d4c3f496",
   "metadata": {},
   "source": [
    "# 4. Plotting Total sales by each Stores"
   ]
  },
  {
   "cell_type": "code",
   "execution_count": 9,
   "id": "9c4d6128",
   "metadata": {},
   "outputs": [
    {
     "data": {
      "image/png": "[encoded data removed]",
      "text/plain": [
       "<Figure size 1200x800 with 1 Axes>"
      ]
     },
     "metadata": {},
     "output_type": "display_data"
    }
   ],
   "source": [
    "plt.figure(figsize=(12,8))\n",
    "sns.barplot(x=sales_per_month.index,y=sales_per_month.values,data=sales_per_month)\n",
    "plt.title(\"Total Sales Analysis\")\n",
    "plt.xlabel(\"Stores\")\n",
    "plt.ylabel(\"Total Sales\")\n",
    "plt.grid(axis='x',color='black');"
   ]
  },
  {
   "cell_type": "markdown",
   "id": "c8602a2a",
   "metadata": {},
   "source": [
    "# 5. Finding correlation between Value and Price and plotting the regression line"
   ]
  },
  {
   "cell_type": "code",
   "execution_count": 11,
   "id": "ccf41baa",
   "metadata": {},
   "outputs": [
    {
     "data": {
      "text/plain": [
       "<Axes: xlabel='VALUE', ylabel='PRICE'>"
      ]
     },
     "execution_count": 11,
     "metadata": {},
     "output_type": "execute_result"
    },
    {
     "data": {
      "image/png": "[encoded data removed]",
      "text/plain": [
       "<Figure size 640x480 with 1 Axes>"
      ]
     },
     "metadata": {},
     "output_type": "display_data"
    }
   ],
   "source": [
    "sns.regplot(x=df['VALUE'], y=df['PRICE'])"
   ]
  },
  {
   "cell_type": "code",
   "execution_count": null,
   "id": "95f8b4ab",
   "metadata": {},
   "outputs": [],
   "source": []
  }
 ],
 "metadata": {
  "kernelspec": {
   "display_name": "Python 3 (ipykernel)",
   "language": "python",
   "name": "python3"
  },
  "language_info": {
   "codemirror_mode": {
    "name": "ipython",
    "version": 3
   },
   "file_extension": ".py",
   "mimetype": "text/x-python",
   "name": "python",
   "nbconvert_exporter": "python",
   "pygments_lexer": "ipython3",
   "version": "3.10.9"
  }
 },
 "nbformat": 4,
 "nbformat_minor": 5
}
